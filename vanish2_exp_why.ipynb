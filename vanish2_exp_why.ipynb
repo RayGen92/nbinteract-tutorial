{
 "cells": [
  {
   "cell_type": "code",
   "execution_count": null,
   "metadata": {
    "collapsed": false,
    "deletable": true,
    "editable": true
   },
   "outputs": [],
   "source": []
  },
  {
   "cell_type": "code",
   "execution_count": null,
   "metadata": {
    "collapsed": false,
    "deletable": true,
    "editable": true
   },
   "outputs": [],
   "source": []
  },
  {
   "cell_type": "code",
   "execution_count": null,
   "metadata": {
    "collapsed": true,
    "deletable": true,
    "editable": true
   },
   "outputs": [],
   "source": []
  },
  {
   "cell_type": "code",
   "execution_count": null,
   "metadata": {
    "collapsed": true,
    "deletable": true,
    "editable": true
   },
   "outputs": [],
   "source": []
  },
  {
   "cell_type": "code",
   "execution_count": null,
   "metadata": {
    "collapsed": true,
    "deletable": true,
    "editable": true
   },
   "outputs": [],
   "source": []
  },
  {
   "cell_type": "code",
   "execution_count": null,
   "metadata": {
    "collapsed": true,
    "deletable": true,
    "editable": true
   },
   "outputs": [],
   "source": []
  },
  {
   "cell_type": "code",
   "execution_count": null,
   "metadata": {
    "collapsed": true,
    "deletable": true,
    "editable": true
   },
   "outputs": [],
   "source": []
  },
  {
   "cell_type": "code",
   "execution_count": null,
   "metadata": {
    "collapsed": true,
    "deletable": true,
    "editable": true
   },
   "outputs": [],
   "source": []
  },
  {
   "cell_type": "code",
   "execution_count": null,
   "metadata": {
    "collapsed": true,
    "deletable": true,
    "editable": true
   },
   "outputs": [],
   "source": []
  },
  {
   "cell_type": "code",
   "execution_count": null,
   "metadata": {
    "collapsed": true,
    "deletable": true,
    "editable": true
   },
   "outputs": [],
   "source": []
  },
  {
   "cell_type": "code",
   "execution_count": null,
   "metadata": {
    "collapsed": true,
    "deletable": true,
    "editable": true
   },
   "outputs": [],
   "source": []
  },
  {
   "cell_type": "code",
   "execution_count": null,
   "metadata": {
    "collapsed": true,
    "deletable": true,
    "editable": true
   },
   "outputs": [],
   "source": []
  },
  {
   "cell_type": "code",
   "execution_count": null,
   "metadata": {
    "collapsed": true,
    "deletable": true,
    "editable": true
   },
   "outputs": [],
   "source": []
  },
  {
   "cell_type": "code",
   "execution_count": null,
   "metadata": {
    "collapsed": false,
    "deletable": true,
    "editable": true
   },
   "outputs": [],
   "source": []
  },
  {
   "cell_type": "code",
   "execution_count": 260,
   "metadata": {
    "collapsed": true,
    "deletable": true,
    "editable": true
   },
   "outputs": [],
   "source": [
    "import warnings\n",
    "warnings.filterwarnings('ignore')"
   ]
  },
  {
   "cell_type": "code",
   "execution_count": 261,
   "metadata": {
    "collapsed": false,
    "deletable": true,
    "editable": true,
    "extensions": {
     "jupyter_dashboards": {
      "version": 1,
      "views": {
       "grid_default": {
        "hidden": true
       },
       "report_default": {}
      }
     }
    }
   },
   "outputs": [
    {
     "data": {
      "text/html": [
       "<script>requirejs.config({paths: { 'plotly': ['https://cdn.plot.ly/plotly-latest.min']},});if(!window.Plotly) {{require(['plotly'],function(plotly) {window.Plotly=plotly;});}}</script>"
      ],
      "text/plain": [
       "<IPython.core.display.HTML object>"
      ]
     },
     "metadata": {},
     "output_type": "display_data"
    }
   ],
   "source": [
    "from IPython.display import Image\n",
    "from IPython.core.display import HTML\n",
    "from termcolor import colored, cprint\n",
    "from IPython.display import display, HTML\n",
    "from __future__ import print_function\n",
    "from ipywidgets import interact, interactive, fixed, interact_manual\n",
    "import ipywidgets as widgets\n",
    "import numpy as np            # Data manipulation\n",
    "import pandas as pd           # Dataframe manipulatio \n",
    "import matplotlib.pyplot as plt # For graphics\n",
    "import matplotlib.path as mpath\n",
    "import plotly\n",
    "\n",
    "plotly.tools.set_credentials_file(username='RayyanAnsari', api_key='bmmXMgYcnUFHZrAcEW4d')\n",
    "\n",
    "import plotly.plotly as py\n",
    "import plotly.graph_objs as go\n",
    "\n",
    "import plotly.graph_objs as go\n",
    "from plotly.offline import init_notebook_mode, iplot\n",
    "init_notebook_mode(connected=True)\n",
    "from plotly.widgets import GraphWidget\n",
    "\n",
    "\n",
    "\n",
    "hold=0\n",
    "\n",
    "def h(Click_Through_Rate,Average_Response_Time,Number_of_InPerson_Consults,Number_of_Active_HPs,Drop_off_Rate):\n",
    "    \n",
    "\n",
    "    \n",
    "\n",
    "    #=['Number_of_InPerson_Consults','Average_Response_Time','Number of Active HPs','Drop off Rate']\n",
    "    xx=Click_Through_Rate\n",
    "    dor=30-(xx*2)\n",
    "    yy=[xx*3 , 100/xx, int(xx*0.9) , dor]\n",
    "\n",
    "    y=np.asarray(yy)\n",
    "\n",
    "    color=np.array(['rgb(255,255,255)']*y.shape[0])\n",
    "\n",
    "\n",
    "\n",
    "\n",
    "    if yy[1]>=20:\n",
    "        color[1]='rgb(255,0,0)'\n",
    "\n",
    "    else:\n",
    "        color[1]='rgb(0,255,0)'\n",
    "\n",
    "    if yy[0]<=20:\n",
    "        color[0]='rgb(255,0,0)'\n",
    "\n",
    "    else:\n",
    "        color[0]='rgb(0,255,0)'\n",
    "\n",
    "\n",
    "    if yy[2]<=4:\n",
    "        color[2]='rgb(255,0,0)'\n",
    "\n",
    "    else:\n",
    "        color[2]='rgb(0,255,0)'\n",
    "\n",
    "\n",
    "\n",
    "    if yy[3]>=20:\n",
    "        color[3]='rgb(255,0,0)'\n",
    "\n",
    "    else:\n",
    "        color[3]='rgb(0,255,0)'\n",
    "\n",
    "\n",
    "    def update_plot(xx):\n",
    "        data = [go.Bar(\n",
    "            x=['Number_of_InPerson_Consults','Average_Response_Time','Number of Active HPs','Drop off Rate'],\n",
    "            y=y,\n",
    "\n",
    "\n",
    "\n",
    "            text=y,\n",
    "             textposition = 'auto',\n",
    "            marker=dict(\n",
    "            color=color.tolist(),\n",
    "            line=dict(\n",
    "                color='rgb(8,48,107)',\n",
    "                width=5),\n",
    "        ),\n",
    "        opacity=0.8\n",
    "    )\n",
    "\n",
    "        ]\n",
    "        iplot(data, filename='bar-direct-labels', show_link=False)\n",
    "\n",
    "    update_plot(xx)\n",
    "\n",
    "\n",
    "\n",
    "\n",
    "\n",
    "\n",
    "\n",
    "\n",
    "    #['Number_of_InPerson_Consults','Click_Through_Rate','Number of Active HPs','Drop off Rate']\n",
    "\n",
    "    xx=Average_Response_Time \n",
    "    yy=[int(62-(6*xx)) , int(54-(5*xx)), 10-xx , xx*5]\n",
    "\n",
    "    y=np.asarray(yy)\n",
    "\n",
    "    color=np.array(['rgb(255,255,255)']*y.shape[0])\n",
    "\n",
    "\n",
    "\n",
    "\n",
    "    if yy[1]<=20:\n",
    "        color[1]='rgb(255,0,0)'\n",
    "\n",
    "    else:\n",
    "        color[1]='rgb(0,255,0)'\n",
    "\n",
    "    if yy[0]<=20:\n",
    "        color[0]='rgb(255,0,0)'\n",
    "\n",
    "    else:\n",
    "        color[0]='rgb(0,255,0)'\n",
    "\n",
    "    if yy[2]<=5:\n",
    "        color[2]='rgb(255,0,0)'\n",
    "\n",
    "    else:\n",
    "        color[2]='rgb(0,255,0)'\n",
    "\n",
    "    if yy[3]>=25:\n",
    "        color[3]='rgb(255,0,0)'\n",
    "\n",
    "    else:\n",
    "        color[3]='rgb(0,255,0)'\n",
    "\n",
    "#         color[yy[1]>20]='rgb(0,255,0)'\n",
    "\n",
    "\n",
    "#         color[y[0]<=20]='rgb(255,0,0)'\n",
    "#         color[y[0]>20]='rgb(0,255,0)'\n",
    "\n",
    "\n",
    "    def update_plot(xx):\n",
    "        data = [go.Bar(\n",
    "            x=['Number_of_InPerson_Consults','Click_Through_Rate','Number of Active HPs','Drop off Rate'],\n",
    "            y=y,\n",
    "\n",
    "\n",
    "             text=y,\n",
    "             textposition = 'auto',\n",
    "            marker=dict(\n",
    "\n",
    "            color=color.tolist(),\n",
    "\n",
    "\n",
    "            line=dict(\n",
    "                color='rgb(8,48,107)',\n",
    "                width=5),\n",
    "        ),\n",
    "        opacity=0.8\n",
    "    )\n",
    "\n",
    "        ]\n",
    "\n",
    "\n",
    "        iplot(data,filename='bar-direct-labels', show_link=False)\n",
    "\n",
    "    update_plot(xx)\n",
    "\n",
    "\n",
    "\n",
    "    #['Click_Through_Rate','Average_Response_Time','Number of Active HPs','Drop off Rate']\n",
    "    xx=Number_of_InPerson_Consults\n",
    "    yy=[(xx*5)-2 , 80-(7*xx), xx-1, 35-(3*xx)]\n",
    "\n",
    "    y=np.asarray(yy)\n",
    "\n",
    "    color=np.array(['rgb(255,255,255)']*y.shape[0])\n",
    "\n",
    "\n",
    "\n",
    "\n",
    "    if yy[1]>=40:\n",
    "        color[1]='rgb(255,0,0)'\n",
    "\n",
    "    else:\n",
    "        color[1]='rgb(0,255,0)'\n",
    "\n",
    "    if yy[0]<=20:\n",
    "        color[0]='rgb(255,0,0)'\n",
    "\n",
    "    else:\n",
    "        color[0]='rgb(0,255,0)'\n",
    "\n",
    "    if yy[2]<=5:\n",
    "        color[2]='rgb(255,0,0)'\n",
    "\n",
    "    else:\n",
    "        color[2]='rgb(0,255,0)'\n",
    "\n",
    "    if yy[3]>=18:\n",
    "        color[3]='rgb(255,0,0)'\n",
    "\n",
    "    else:\n",
    "        color[3]='rgb(0,255,0)'\n",
    "\n",
    "\n",
    "\n",
    "    def update_plot(xx):\n",
    "        data = [go.Bar(\n",
    "\n",
    "            x=['Click_Through_Rate','Average_Response_Time','Number of Active HPs','Drop off Rate'],\n",
    "            y=y,\n",
    "\n",
    "\n",
    "             text=y,\n",
    "             textposition = 'auto',\n",
    "            marker=dict(\n",
    "            color=color.tolist(),\n",
    "            line=dict(\n",
    "                color='rgb(8,48,107)',\n",
    "                width=5),\n",
    "        ),\n",
    "        opacity=0.8\n",
    "    )\n",
    "\n",
    "        ]\n",
    "        iplot(data,filename='bar-direct-labels', show_link=False)\n",
    "\n",
    "    update_plot(xx)\n",
    "\n",
    "\n",
    "\n",
    "\n",
    "    #['Number_of_InPerson_Consults','Click_Through_Rate','Average_Response_Time','Drop off Rate']\n",
    "    xx=Number_of_Active_HPs\n",
    "    yy=[(xx*5)+1 , (xx*6)-2, 80-(7*xx), 35-(3*xx) ]\n",
    "\n",
    "    y=np.asarray(yy)\n",
    "\n",
    "    color=np.array(['rgb(255,255,255)']*y.shape[0])\n",
    "\n",
    "\n",
    "\n",
    "\n",
    "    if yy[1]<=20:\n",
    "        color[1]='rgb(255,0,0)'\n",
    "\n",
    "    else:\n",
    "        color[1]='rgb(0,255,0)'\n",
    "\n",
    "\n",
    "    if yy[0]<=20:\n",
    "        color[0]='rgb(255,0,0)'\n",
    "\n",
    "    else:\n",
    "        color[0]='rgb(0,255,0)'\n",
    "\n",
    "    if yy[2]>=45:\n",
    "        color[2]='rgb(255,0,0)'\n",
    "\n",
    "    else:\n",
    "        color[2]='rgb(0,255,0)'\n",
    "\n",
    "    if yy[3]<=15:\n",
    "        color[3]='rgb(255,0,0)'\n",
    "\n",
    "    else:\n",
    "        color[3]='rgb(0,255,0)'\n",
    "\n",
    "\n",
    "\n",
    "    def update_plot(xx):\n",
    "        data = [go.Bar(\n",
    "\n",
    "            x=['Number_of_InPerson_Consults','Click_Through_Rate','Average_Response_Time','Drop off Rate'],\n",
    "            y=y,\n",
    "\n",
    "\n",
    "             text=y,\n",
    "             textposition = 'auto',\n",
    "            marker=dict(\n",
    "            color=color.tolist(),\n",
    "            line=dict(\n",
    "                color='rgb(8,48,107)',\n",
    "                width=5),\n",
    "        ),\n",
    "        opacity=0.8\n",
    "    )\n",
    "\n",
    "        ]\n",
    "        iplot(data,filename='bar-direct-labels', show_link=False)\n",
    "\n",
    "    update_plot(xx)\n",
    "\n",
    "\n",
    "\n",
    "    xx=Drop_off_Rate\n",
    "    yy=[xx*2 , 100/xx]\n",
    "\n",
    "    y=np.asarray(yy)\n",
    "\n",
    "    color=np.array(['rgb(255,255,255)']*y.shape[0])\n",
    "\n",
    "\n",
    "\n",
    "\n",
    "    if yy[1]<=20:\n",
    "        color[1]='rgb(255,0,0)'\n",
    "\n",
    "    else:\n",
    "        color[1]='rgb(0,255,0)'\n",
    "\n",
    "    if yy[0]<=20:\n",
    "        color[0]='rgb(255,0,0)'\n",
    "\n",
    "    else:\n",
    "        color[0]='rgb(0,255,0)'\n",
    "\n",
    "    if yy[2]<=20:\n",
    "        color[2]='rgb(255,0,0)'\n",
    "\n",
    "    else:\n",
    "        color[2]='rgb(0,255,0)'\n",
    "\n",
    "    if yy[3]<=20:\n",
    "        color[3]='rgb(255,0,0)'\n",
    "\n",
    "    else:\n",
    "        color[3]='rgb(0,255,0)'\n",
    "\n",
    "\n",
    "\n",
    "    def update_plot(xx):\n",
    "        data = [go.Bar(\n",
    "\n",
    "            x=['Number_of_InPerson_Consults','Click_Through_Rate','Average_Response_Time','Number of Active HPs'],\n",
    "            y=y,\n",
    "\n",
    "\n",
    "             text=y,\n",
    "             textposition = 'auto',\n",
    "            marker=dict(\n",
    "            color='rgb(58,2,240)',\n",
    "            line=dict(\n",
    "                color='rgb(8,48,107)',\n",
    "                width=5),\n",
    "        ),\n",
    "        opacity=0.8\n",
    "    )\n",
    "\n",
    "        ]\n",
    "        iplot(data,filename='bar-direct-labels', show_link=False)\n",
    "\n",
    "    update_plot(xx)\n",
    "        \n",
    "    return(0)\n",
    "\n",
    "   \n",
    "    \n",
    "        \n",
    "    \n",
    "\n"
   ]
  },
  {
   "cell_type": "markdown",
   "metadata": {
    "deletable": true,
    "editable": true
   },
   "source": [
    "<figure><img src=\"https://github.com/RayGen92/nbinteract-tutorial/blob/master/wecudospic.png?raw=true\" width=\"150\" height=\"150\" align=\"right\"/><figcaption><font size=\"6\" color=\"blue\">DYNAMIC BUSINESS METRICS</font></figcaption></figure> "
   ]
  },
  {
   "cell_type": "code",
   "execution_count": null,
   "metadata": {
    "collapsed": true,
    "deletable": true,
    "editable": true
   },
   "outputs": [],
   "source": []
  },
  {
   "cell_type": "code",
   "execution_count": 262,
   "metadata": {
    "collapsed": false,
    "deletable": true,
    "editable": true,
    "scrolled": false
   },
   "outputs": [
    {
     "data": {
      "application/vnd.jupyter.widget-view+json": {
       "model_id": "7cb60ee7e0cc46e8a43573732f7b8558",
       "version_major": 2,
       "version_minor": 0
      },
      "text/plain": [
       "interactive(children=(IntSlider(value=5, description='Click_Through_Rate', max=10, min=1), IntSlider(value=5, …"
      ]
     },
     "metadata": {},
     "output_type": "display_data"
    },
    {
     "data": {
      "text/plain": [
       "<function __main__.h(Click_Through_Rate, Average_Response_Time, Number_of_InPerson_Consults, Number_of_Active_HPs, Drop_off_Rate)>"
      ]
     },
     "execution_count": 262,
     "metadata": {},
     "output_type": "execute_result"
    }
   ],
   "source": [
    "interact(h,Click_Through_Rate=(1,10,1),Average_Response_Time=(1,10,1),Number_of_InPerson_Consults=(1,10,1),Number_of_Active_HPs=(1,10,1),Drop_off_Rate=(1,10,1))"
   ]
  },
  {
   "cell_type": "code",
   "execution_count": null,
   "metadata": {
    "collapsed": true,
    "deletable": true,
    "editable": true
   },
   "outputs": [],
   "source": []
  },
  {
   "cell_type": "code",
   "execution_count": 263,
   "metadata": {
    "collapsed": false,
    "deletable": true,
    "editable": true,
    "extensions": {
     "jupyter_dashboards": {
      "version": 1,
      "views": {
       "grid_default": {
        "col": 0,
        "height": 18,
        "hidden": false,
        "row": 0,
        "width": 4
       },
       "report_default": {}
      }
     }
    }
   },
   "outputs": [],
   "source": [
    "# interact(h,ctr=(0,10,2),resptime=(0,10,2),inpercons=(0,10,2),Ques_Number=['1','2','3','4','5'])\n",
    "# interact(h,ctr=(0,10,2),resptime=(0,10,2),inpercons=(0,10,2),Ques_Number=['1','2','3','4','5'])"
   ]
  },
  {
   "cell_type": "code",
   "execution_count": 264,
   "metadata": {
    "collapsed": false,
    "deletable": true,
    "editable": true,
    "extensions": {
     "jupyter_dashboards": {
      "version": 1,
      "views": {
       "grid_default": {
        "col": 8,
        "height": 18,
        "hidden": false,
        "row": 0,
        "width": 4
       },
       "report_default": {}
      }
     }
    }
   },
   "outputs": [],
   "source": [
    "#interact(h,ctr=(0,10,2),resptime=(0,10,2),inpercons=(0,10,2),Ques_Number=['1','2','3','4','5'])"
   ]
  },
  {
   "cell_type": "code",
   "execution_count": 265,
   "metadata": {
    "collapsed": false,
    "deletable": true,
    "editable": true,
    "extensions": {
     "jupyter_dashboards": {
      "version": 1,
      "views": {
       "grid_default": {
        "col": 4,
        "height": 4,
        "hidden": false,
        "row": 0,
        "width": 4
       },
       "report_default": {}
      }
     }
    }
   },
   "outputs": [
    {
     "data": {
      "text/html": [
       "<script>\n",
       "code_show=true; \n",
       "function code_toggle() {\n",
       " if (code_show){\n",
       " $('div.input').hide();\n",
       " } else {\n",
       " $('div.input').show();\n",
       " }\n",
       " code_show = !code_show\n",
       "} \n",
       "$( document ).ready(code_toggle);\n",
       "</script>\n",
       "The raw code for this IPython notebook is by default hidden for easier reading.\n",
       "To toggle on/off the raw code, click <a href=\"javascript:code_toggle()\">here</a>."
      ],
      "text/plain": [
       "<IPython.core.display.HTML object>"
      ]
     },
     "execution_count": 265,
     "metadata": {},
     "output_type": "execute_result"
    }
   ],
   "source": [
    "from IPython.display import HTML\n",
    "HTML('''<script>\n",
    "code_show=true; \n",
    "function code_toggle() {\n",
    " if (code_show){\n",
    " $('div.input').hide();\n",
    " } else {\n",
    " $('div.input').show();\n",
    " }\n",
    " code_show = !code_show\n",
    "} \n",
    "$( document ).ready(code_toggle);\n",
    "</script>\n",
    "The raw code for this IPython notebook is by default hidden for easier reading.\n",
    "To toggle on/off the raw code, click <a href=\"javascript:code_toggle()\">here</a>.''')"
   ]
  },
  {
   "cell_type": "code",
   "execution_count": 266,
   "metadata": {
    "collapsed": false,
    "deletable": true,
    "editable": true
   },
   "outputs": [
    {
     "data": {
      "text/html": [
       "\n",
       "<style>\n",
       "#notebook-container {\n",
       "    padding: 15px;\n",
       "    background-color: #e8e8e8;\n",
       "    min-height: 0;\n",
       "    -webkit-box-shadow: 0px 0px 12px 1px rgba(87, 87, 87, 0.3);\n",
       "    box-shadow: 0px 0px 12px 1px rgba(87, 87, 87, 0.3);\n",
       "}\n",
       ".notebook_app {\n",
       "    background-color: darkblue;\n",
       "}\n",
       "#header{\n",
       "background-color: lightgray;\n",
       "}\n",
       "#notebook_name.filename{\n",
       "\n",
       "color:DarkBlue;\n",
       "font-size:200%;\n",
       "}\n",
       "body #header{\n",
       "background-color:lightgray;\n",
       "}\n",
       "</style>\n"
      ],
      "text/plain": [
       "<IPython.core.display.HTML object>"
      ]
     },
     "execution_count": 266,
     "metadata": {},
     "output_type": "execute_result"
    }
   ],
   "source": [
    "##E3F6FF\n",
    "from IPython.core.display import HTML\n",
    "HTML(\"\"\"\n",
    "<style>\n",
    "#notebook-container {\n",
    "    padding: 15px;\n",
    "    background-color: #e8e8e8;\n",
    "    min-height: 0;\n",
    "    -webkit-box-shadow: 0px 0px 12px 1px rgba(87, 87, 87, 0.3);\n",
    "    box-shadow: 0px 0px 12px 1px rgba(87, 87, 87, 0.3);\n",
    "}\n",
    ".notebook_app {\n",
    "    background-color: darkblue;\n",
    "}\n",
    "#header{\n",
    "background-color: lightgray;\n",
    "}\n",
    "#notebook_name.filename{\n",
    "\n",
    "color:DarkBlue;\n",
    "font-size:200%;\n",
    "}\n",
    "body #header{\n",
    "background-color:lightgray;\n",
    "}\n",
    "</style>\n",
    "\"\"\")"
   ]
  }
 ],
 "metadata": {
  "extensions": {
   "jupyter_dashboards": {
    "activeView": "grid_default",
    "version": 1,
    "views": {
     "grid_default": {
      "cellMargin": 10,
      "defaultCellHeight": 20,
      "maxColumns": 12,
      "name": "grid",
      "type": "grid"
     },
     "report_default": {
      "name": "report",
      "type": "report"
     }
    }
   }
  },
  "kernelspec": {
   "display_name": "Python 3",
   "language": "python",
   "name": "python3"
  },
  "language_info": {
   "codemirror_mode": {
    "name": "ipython",
    "version": 3
   },
   "file_extension": ".py",
   "mimetype": "text/x-python",
   "name": "python",
   "nbconvert_exporter": "python",
   "pygments_lexer": "ipython3",
   "version": "3.5.2"
  }
 },
 "nbformat": 4,
 "nbformat_minor": 2
}
