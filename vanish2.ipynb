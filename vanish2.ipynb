{
 "cells": [
  {
   "cell_type": "code",
   "execution_count": null,
   "metadata": {
    "collapsed": true,
    "deletable": true,
    "editable": true
   },
   "outputs": [],
   "source": []
  },
  {
   "cell_type": "code",
   "execution_count": null,
   "metadata": {
    "collapsed": true
   },
   "outputs": [],
   "source": []
  },
  {
   "cell_type": "code",
   "execution_count": null,
   "metadata": {
    "collapsed": true
   },
   "outputs": [],
   "source": []
  },
  {
   "cell_type": "code",
   "execution_count": null,
   "metadata": {
    "collapsed": true
   },
   "outputs": [],
   "source": []
  },
  {
   "cell_type": "code",
   "execution_count": null,
   "metadata": {
    "collapsed": true
   },
   "outputs": [],
   "source": []
  },
  {
   "cell_type": "code",
   "execution_count": null,
   "metadata": {
    "collapsed": true
   },
   "outputs": [],
   "source": []
  },
  {
   "cell_type": "code",
   "execution_count": null,
   "metadata": {
    "collapsed": true
   },
   "outputs": [],
   "source": []
  },
  {
   "cell_type": "code",
   "execution_count": null,
   "metadata": {
    "collapsed": true
   },
   "outputs": [],
   "source": []
  },
  {
   "cell_type": "code",
   "execution_count": null,
   "metadata": {
    "collapsed": true
   },
   "outputs": [],
   "source": []
  },
  {
   "cell_type": "code",
   "execution_count": null,
   "metadata": {
    "collapsed": true
   },
   "outputs": [],
   "source": []
  },
  {
   "cell_type": "code",
   "execution_count": null,
   "metadata": {
    "collapsed": true
   },
   "outputs": [],
   "source": []
  },
  {
   "cell_type": "code",
   "execution_count": null,
   "metadata": {
    "collapsed": true
   },
   "outputs": [],
   "source": []
  },
  {
   "cell_type": "code",
   "execution_count": null,
   "metadata": {
    "collapsed": true
   },
   "outputs": [],
   "source": []
  },
  {
   "cell_type": "code",
   "execution_count": null,
   "metadata": {
    "collapsed": true
   },
   "outputs": [],
   "source": []
  },
  {
   "cell_type": "code",
   "execution_count": null,
   "metadata": {
    "collapsed": true
   },
   "outputs": [],
   "source": []
  },
  {
   "cell_type": "code",
   "execution_count": null,
   "metadata": {
    "collapsed": true
   },
   "outputs": [],
   "source": []
  },
  {
   "cell_type": "code",
   "execution_count": 298,
   "metadata": {
    "collapsed": true,
    "deletable": true,
    "editable": true,
    "extensions": {
     "jupyter_dashboards": {
      "version": 1,
      "views": {
       "grid_default": {
        "hidden": true
       },
       "report_default": {}
      }
     }
    }
   },
   "outputs": [],
   "source": [
    "from IPython.display import Image\n",
    "from IPython.core.display import HTML\n",
    "from termcolor import colored, cprint\n",
    "from IPython.display import display, HTML\n",
    "from __future__ import print_function\n",
    "from ipywidgets import interact, interactive, fixed, interact_manual\n",
    "import ipywidgets as widgets\n",
    "import numpy as np            # Data manipulation\n",
    "import pandas as pd           # Dataframe manipulatio \n",
    "import matplotlib.pyplot as plt # For graphics\n",
    "\n",
    "\n",
    "\n",
    "def h(Click_Through_Rate,Average_Response_Time,Number_of_InPerson_Consults,Ques_Number):\n",
    "    \n",
    "    qlabel1='Today, do you or would you have any difficulty at all with any of your usual work, housework, or school activities?'\n",
    "\n",
    "\n",
    "    qlabel2='Today, do you or would you have any difficulty at all with your usual hobbies, re creational or sporting activities?'\n",
    "\n",
    "    qlabel3='Today, do you or would you have any difficulty at all with getting into or out of the bath?'\n",
    "\n",
    "    qlabel4='Today, do you or would you have any difficulty at all with walking between rooms?'\n",
    "\n",
    "    qlabel5='Today, do you or would you have any difficulty at all with putting on your shoes or socks?'\n",
    "    \n",
    "    descriptorq1='(1 being extreme difficulty or unable to perform activity, 5 being no difficulty)'\n",
    "    descriptorq2='(1 being extreme difficulty or unable to perform activity, 5 being no difficulty)'\n",
    "    descriptorq3='(1 being extreme difficulty or unable to perform activity, 5 being no difficulty)'\n",
    "    descriptorq4='(1 being extreme difficulty or unable to perform activity, 5 being no difficulty)'\n",
    "    descriptorq5='(1 being extreme difficulty or unable to perform activity, 5 being no difficulty)'\n",
    "    \n",
    "    descriptorq=[descriptorq1,descriptorq2,descriptorq3,descriptorq4,descriptorq5]\n",
    "    \n",
    "    qlab=[qlabel1,qlabel2,qlabel3,qlabel4,qlabel5]\n",
    "    \n",
    "    \n",
    "    total=Click_Through_Rate+Average_Response_Time+Number_of_InPerson_Consults\n",
    "    \n",
    "\n",
    "    \n",
    "    \n",
    "    if total>=25:\n",
    "        custsatscores=[8,8,8,8,8,8,8,8,8,8]\n",
    "        \n",
    "        cprint(\"\\nThe Customer Satisfaction score is: Good - \"+ str(total), 'blue', 'on_cyan', attrs=['bold'])\n",
    "        \n",
    "\n",
    "        #print(\"The Customer Satisfaction score is: Good - \"+ str(total)+\"\\n\")\n",
    "\n",
    "\n",
    "    if (total>20 and total<25):\n",
    "        custsatscores=[7,7,7,7,7,7,7,7,8,8]\n",
    "        \n",
    "        cprint(\"\\nThe Customer Satisfaction score is: Average - \"+ str(total), 'blue', 'on_cyan', attrs=['bold'])\n",
    "\n",
    "        #print(\"The Customer Satisfaction score is: Average - \"+ str(total)+\"\\n\")\n",
    "    \n",
    "    if total<=20:\n",
    "        custsatscores=[4,4,4,4,4,4,7,7,7,7]\n",
    "        \n",
    "        cprint(\"\\nThe Customer Satisfaction score is: Poor - \"+ str(total), 'blue', 'on_cyan', attrs=['bold'])\n",
    "\n",
    "        #print(\"The Customer Satisfaction score is: Poor - \"+ str(total)+\"\\n\")\n",
    "\n",
    "        \n",
    "    \n",
    "\n",
    "    \n",
    "    newlist=[]\n",
    "    \n",
    "\n",
    "    \n",
    "    import random\n",
    "    \n",
    "    \n",
    "    for ii in range(10):\n",
    "\n",
    "\n",
    "\n",
    "        dummylist=[]\n",
    "        dummylist1=[]\n",
    "        dummylist2=[]\n",
    "        dummylist3=[]\n",
    "        dummylist4=[]\n",
    "\n",
    "        rr=[]\n",
    "\n",
    "\n",
    "\n",
    "        for i in range(10):\n",
    "\n",
    "\n",
    "\n",
    "\n",
    "\n",
    "\n",
    "\n",
    "            dummylist.append(random.randint(0,3))\n",
    "            dummylist1.append(random.randint(1,4))\n",
    "            dummylist2.append(random.randint(0,3))\n",
    "            dummylist3.append(random.randint(0,3))\n",
    "            dummylist4.append(random.randint(0,3))\n",
    "\n",
    "\n",
    "\n",
    "        \n",
    "        check=custsatscores[ii]\n",
    "\n",
    "\n",
    "\n",
    "\n",
    "        if check<5:\n",
    "\n",
    "            #for all questions for one patient\n",
    "            rr=[dummylist,sorted(dummylist1,reverse=True),sorted(dummylist2,reverse=True),dummylist3,\n",
    "                sorted(dummylist4,reverse=True)]\n",
    "\n",
    "\n",
    "\n",
    "\n",
    "\n",
    "\n",
    "        #Avg Satisfaction, Out of 15, 3 Random,1 opposite \n",
    "\n",
    "        elif check>4 and check<8:\n",
    "\n",
    "\n",
    "            rr=[dummylist,sorted(dummylist1),sorted(dummylist2),dummylist3,\n",
    "                dummylist4]\n",
    "\n",
    "\n",
    "\n",
    "\n",
    "        #Good Satisfaction, Out of 15, 2 Random \n",
    "\n",
    "\n",
    "        else:\n",
    "            rr=[sorted(dummylist),sorted(dummylist1),sorted(dummylist2),sorted(dummylist3),\n",
    "                sorted(dummylist4)]\n",
    "\n",
    "\n",
    "\n",
    "\n",
    "\n",
    "        newlist.append(rr)\n",
    "\n",
    "\n",
    "        #if(ii==9)\n",
    "\n",
    "        #bookmark=[0,0,0,0,0,0,0,0,0]\n",
    "        #newlist.append(bookmark)\n",
    "        \n",
    "    da=pd.DataFrame()\n",
    "\n",
    "    appended_data = []\n",
    "\n",
    "    for i in range(10):\n",
    "        data = newlist[i]\n",
    "\n",
    "        npary=np.array(data)\n",
    "\n",
    "        npary1=npary.T\n",
    "\n",
    "        ddd=npary1.tolist()\n",
    "\n",
    "        appended_data.append(npary1)\n",
    "\n",
    "\n",
    "\n",
    "        da=da.append(ddd,ignore_index=False)\n",
    "\n",
    "    \n",
    "    \n",
    "            \n",
    "    #print(da)\n",
    "        \n",
    "    #print(\"Company level Visualizations\")\n",
    "\n",
    "    da.columns = [\n",
    "'Q1',\n",
    "'Q2',\n",
    "'Q3',\n",
    "'Q4',\n",
    "'Q5',\n",
    "\n",
    "]\n",
    "\n",
    "\n",
    "    a=da.groupby(level=0).mean()\n",
    "    \n",
    "    #print(a)\n",
    "\n",
    "    complev=a.T\n",
    "    \n",
    "    #print(complev)\n",
    "\n",
    "    l=[]\n",
    "    \n",
    "    for row in complev.iterrows():\n",
    "        l.append(row)\n",
    "\n",
    "    for ii in range(len(complev)):\n",
    "        #if (ii+1)==7 or (ii+1)==8 or (ii+1)==9 or (ii+1)==9 or (ii+1)==10 or (ii+1)==11:\n",
    "         #   print('Negative scale')\n",
    "        #plt.title('Question No.'+str(ii+1))\n",
    "        \n",
    "        if ii==(int(Ques_Number)-1):\n",
    "            #label, fontdict=None, loc='center'\n",
    "            plt.title(str(qlab[ii])+\"\\n\"+str(descriptorq[ii])+\"\\n\")\n",
    "            plt.plot(l[ii][1])\n",
    "            plt.ylabel('Progress')\n",
    "            plt.xlabel('Time')\n",
    "            plt.show()\n",
    "\n",
    "\n",
    "\n",
    "\n",
    "\n",
    "\n",
    "    #return (ctr,resptime,inpercons,Ques_Number)\n",
    "    return (0)\n",
    "\n",
    "\n",
    "\n",
    "\n",
    "\n",
    "\n",
    "    \n"
   ]
  },
  {
   "cell_type": "code",
   "execution_count": 299,
   "metadata": {
    "collapsed": false,
    "deletable": true,
    "editable": true,
    "extensions": {
     "jupyter_dashboards": {
      "version": 1,
      "views": {
       "grid_default": {
        "hidden": true
       },
       "report_default": {}
      }
     }
    }
   },
   "outputs": [],
   "source": [
    "# from IPython.display import Image\n",
    "# Image(filename='C:\\\\Users\\\\Rayyan\\\\Desktop\\\\wec.png')\n",
    "#print(\"DYNAMIC BUSINESS METRICS\")\n",
    "#Image(url= \"https://github.com/RayGen92/nbinteract-tutorial/blob/master/wecudospic.png?raw=true\", width=150, height=150)\n"
   ]
  },
  {
   "cell_type": "code",
   "execution_count": 300,
   "metadata": {
    "collapsed": true,
    "deletable": true,
    "editable": true
   },
   "outputs": [],
   "source": [
    "#<img src=\"https://github.com/RayGen92/nbinteract-tutorial/blob/master/wecudospic.png?raw=true\" width=\"150\" height=\"150\" align=\"right\"/>"
   ]
  },
  {
   "cell_type": "markdown",
   "metadata": {},
   "source": [
    "<figure><img src=\"https://github.com/RayGen92/nbinteract-tutorial/blob/master/wecudospic.png?raw=true\" width=\"150\" height=\"150\" align=\"right\"/><figcaption><font size=\"6\" color=\"blue\">CUSTOMER SATISFACTION SCORE</font></figcaption></figure> "
   ]
  },
  {
   "cell_type": "code",
   "execution_count": null,
   "metadata": {
    "collapsed": true
   },
   "outputs": [],
   "source": []
  },
  {
   "cell_type": "code",
   "execution_count": null,
   "metadata": {
    "collapsed": true
   },
   "outputs": [],
   "source": []
  },
  {
   "cell_type": "code",
   "execution_count": 301,
   "metadata": {
    "collapsed": false,
    "deletable": true,
    "editable": true,
    "extensions": {
     "jupyter_dashboards": {
      "version": 1,
      "views": {
       "grid_default": {
        "col": 4,
        "height": 18,
        "hidden": false,
        "row": 4,
        "width": 4
       },
       "report_default": {}
      }
     }
    }
   },
   "outputs": [
    {
     "data": {
      "application/vnd.jupyter.widget-view+json": {
       "model_id": "c69198a95dc744a4bffd830d28aa7ff7",
       "version_major": 2,
       "version_minor": 0
      },
      "text/plain": [
       "interactive(children=(IntSlider(value=4, description='Click_Through_Rate', max=10, step=2), IntSlider(value=4,…"
      ]
     },
     "metadata": {},
     "output_type": "display_data"
    },
    {
     "data": {
      "text/plain": [
       "<function __main__.h(Click_Through_Rate, Average_Response_Time, Number_of_InPerson_Consults, Ques_Number)>"
      ]
     },
     "execution_count": 301,
     "metadata": {},
     "output_type": "execute_result"
    }
   ],
   "source": [
    "\n",
    "interact(h,Click_Through_Rate=(0,10,2),Average_Response_Time=(0,10,2),Number_of_InPerson_Consults=(0,10,2),Ques_Number=['1','2','3','4','5'])\n",
    "\n"
   ]
  },
  {
   "cell_type": "code",
   "execution_count": 302,
   "metadata": {
    "collapsed": false,
    "deletable": true,
    "editable": true,
    "extensions": {
     "jupyter_dashboards": {
      "version": 1,
      "views": {
       "grid_default": {
        "col": 0,
        "height": 18,
        "hidden": false,
        "row": 0,
        "width": 4
       },
       "report_default": {}
      }
     }
    }
   },
   "outputs": [],
   "source": [
    "# interact(h,ctr=(0,10,2),resptime=(0,10,2),inpercons=(0,10,2),Ques_Number=['1','2','3','4','5'])\n",
    "# interact(h,ctr=(0,10,2),resptime=(0,10,2),inpercons=(0,10,2),Ques_Number=['1','2','3','4','5'])"
   ]
  },
  {
   "cell_type": "code",
   "execution_count": 303,
   "metadata": {
    "collapsed": false,
    "deletable": true,
    "editable": true,
    "extensions": {
     "jupyter_dashboards": {
      "version": 1,
      "views": {
       "grid_default": {
        "col": 8,
        "height": 18,
        "hidden": false,
        "row": 0,
        "width": 4
       },
       "report_default": {}
      }
     }
    }
   },
   "outputs": [],
   "source": [
    "#interact(h,ctr=(0,10,2),resptime=(0,10,2),inpercons=(0,10,2),Ques_Number=['1','2','3','4','5'])"
   ]
  },
  {
   "cell_type": "code",
   "execution_count": 304,
   "metadata": {
    "collapsed": false,
    "deletable": true,
    "editable": true,
    "extensions": {
     "jupyter_dashboards": {
      "version": 1,
      "views": {
       "grid_default": {
        "col": 4,
        "height": 4,
        "hidden": false,
        "row": 0,
        "width": 4
       },
       "report_default": {}
      }
     }
    }
   },
   "outputs": [
    {
     "data": {
      "text/html": [
       "<script>\n",
       "code_show=true; \n",
       "function code_toggle() {\n",
       " if (code_show){\n",
       " $('div.input').hide();\n",
       " } else {\n",
       " $('div.input').show();\n",
       " }\n",
       " code_show = !code_show\n",
       "} \n",
       "$( document ).ready(code_toggle);\n",
       "</script>\n",
       "The raw code for this IPython notebook is by default hidden for easier reading.\n",
       "To toggle on/off the raw code, click <a href=\"javascript:code_toggle()\">here</a>."
      ],
      "text/plain": [
       "<IPython.core.display.HTML object>"
      ]
     },
     "execution_count": 304,
     "metadata": {},
     "output_type": "execute_result"
    }
   ],
   "source": [
    "from IPython.display import HTML\n",
    "HTML('''<script>\n",
    "code_show=true; \n",
    "function code_toggle() {\n",
    " if (code_show){\n",
    " $('div.input').hide();\n",
    " } else {\n",
    " $('div.input').show();\n",
    " }\n",
    " code_show = !code_show\n",
    "} \n",
    "$( document ).ready(code_toggle);\n",
    "</script>\n",
    "The raw code for this IPython notebook is by default hidden for easier reading.\n",
    "To toggle on/off the raw code, click <a href=\"javascript:code_toggle()\">here</a>.''')"
   ]
  },
  {
   "cell_type": "code",
   "execution_count": 305,
   "metadata": {
    "collapsed": false,
    "deletable": true,
    "editable": true
   },
   "outputs": [
    {
     "data": {
      "text/html": [
       "\n",
       "<style>\n",
       "#notebook-container {\n",
       "    padding: 15px;\n",
       "    background-color: #e8e8e8;\n",
       "    min-height: 0;\n",
       "    -webkit-box-shadow: 0px 0px 12px 1px rgba(87, 87, 87, 0.3);\n",
       "    box-shadow: 0px 0px 12px 1px rgba(87, 87, 87, 0.3);\n",
       "}\n",
       ".notebook_app {\n",
       "    background-color: darkblue;\n",
       "}\n",
       "#header{\n",
       "background-color: lightgray;\n",
       "}\n",
       "#notebook_name.filename{\n",
       "\n",
       "color:DarkBlue;\n",
       "font-size:200%;\n",
       "}\n",
       "body #header{\n",
       "background-color:lightgray;\n",
       "}\n",
       "</style>\n"
      ],
      "text/plain": [
       "<IPython.core.display.HTML object>"
      ]
     },
     "execution_count": 305,
     "metadata": {},
     "output_type": "execute_result"
    }
   ],
   "source": [
    "##E3F6FF\n",
    "from IPython.core.display import HTML\n",
    "HTML(\"\"\"\n",
    "<style>\n",
    "#notebook-container {\n",
    "    padding: 15px;\n",
    "    background-color: #e8e8e8;\n",
    "    min-height: 0;\n",
    "    -webkit-box-shadow: 0px 0px 12px 1px rgba(87, 87, 87, 0.3);\n",
    "    box-shadow: 0px 0px 12px 1px rgba(87, 87, 87, 0.3);\n",
    "}\n",
    ".notebook_app {\n",
    "    background-color: darkblue;\n",
    "}\n",
    "#header{\n",
    "background-color: lightgray;\n",
    "}\n",
    "#notebook_name.filename{\n",
    "\n",
    "color:DarkBlue;\n",
    "font-size:200%;\n",
    "}\n",
    "body #header{\n",
    "background-color:lightgray;\n",
    "}\n",
    "</style>\n",
    "\"\"\")"
   ]
  }
 ],
 "metadata": {
  "extensions": {
   "jupyter_dashboards": {
    "activeView": "grid_default",
    "version": 1,
    "views": {
     "grid_default": {
      "cellMargin": 10,
      "defaultCellHeight": 20,
      "maxColumns": 12,
      "name": "grid",
      "type": "grid"
     },
     "report_default": {
      "name": "report",
      "type": "report"
     }
    }
   }
  },
  "kernelspec": {
   "display_name": "Python 3",
   "language": "python",
   "name": "python3"
  },
  "language_info": {
   "codemirror_mode": {
    "name": "ipython",
    "version": 3
   },
   "file_extension": ".py",
   "mimetype": "text/x-python",
   "name": "python",
   "nbconvert_exporter": "python",
   "pygments_lexer": "ipython3",
   "version": "3.5.2"
  }
 },
 "nbformat": 4,
 "nbformat_minor": 2
}
