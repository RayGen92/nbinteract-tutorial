{
 "cells": [
  {
   "cell_type": "code",
   "execution_count": null,
   "metadata": {
    "collapsed": true,
    "deletable": true,
    "editable": true
   },
   "outputs": [],
   "source": []
  },
  {
   "cell_type": "code",
   "execution_count": null,
   "metadata": {
    "collapsed": true,
    "deletable": true,
    "editable": true
   },
   "outputs": [],
   "source": []
  },
  {
   "cell_type": "code",
   "execution_count": null,
   "metadata": {
    "collapsed": true,
    "deletable": true,
    "editable": true
   },
   "outputs": [],
   "source": []
  },
  {
   "cell_type": "code",
   "execution_count": null,
   "metadata": {
    "collapsed": true,
    "deletable": true,
    "editable": true
   },
   "outputs": [],
   "source": []
  },
  {
   "cell_type": "code",
   "execution_count": null,
   "metadata": {
    "collapsed": true,
    "deletable": true,
    "editable": true
   },
   "outputs": [],
   "source": []
  },
  {
   "cell_type": "code",
   "execution_count": null,
   "metadata": {
    "collapsed": true,
    "deletable": true,
    "editable": true
   },
   "outputs": [],
   "source": []
  },
  {
   "cell_type": "code",
   "execution_count": null,
   "metadata": {
    "collapsed": true,
    "deletable": true,
    "editable": true
   },
   "outputs": [],
   "source": []
  },
  {
   "cell_type": "code",
   "execution_count": null,
   "metadata": {
    "collapsed": true,
    "deletable": true,
    "editable": true
   },
   "outputs": [],
   "source": []
  },
  {
   "cell_type": "code",
   "execution_count": null,
   "metadata": {
    "collapsed": true,
    "deletable": true,
    "editable": true
   },
   "outputs": [],
   "source": []
  },
  {
   "cell_type": "code",
   "execution_count": null,
   "metadata": {
    "collapsed": true,
    "deletable": true,
    "editable": true
   },
   "outputs": [],
   "source": []
  },
  {
   "cell_type": "code",
   "execution_count": null,
   "metadata": {
    "collapsed": true,
    "deletable": true,
    "editable": true
   },
   "outputs": [],
   "source": []
  },
  {
   "cell_type": "code",
   "execution_count": null,
   "metadata": {
    "collapsed": true,
    "deletable": true,
    "editable": true
   },
   "outputs": [],
   "source": []
  },
  {
   "cell_type": "code",
   "execution_count": null,
   "metadata": {
    "collapsed": true,
    "deletable": true,
    "editable": true
   },
   "outputs": [],
   "source": []
  },
  {
   "cell_type": "code",
   "execution_count": null,
   "metadata": {
    "collapsed": false,
    "deletable": true,
    "editable": true
   },
   "outputs": [],
   "source": []
  },
  {
   "cell_type": "code",
   "execution_count": null,
   "metadata": {
    "collapsed": true,
    "deletable": true,
    "editable": true
   },
   "outputs": [],
   "source": []
  },
  {
   "cell_type": "code",
   "execution_count": 167,
   "metadata": {
    "collapsed": false,
    "deletable": true,
    "editable": true,
    "extensions": {
     "jupyter_dashboards": {
      "version": 1,
      "views": {
       "grid_default": {
        "hidden": true
       },
       "report_default": {}
      }
     }
    }
   },
   "outputs": [
    {
     "data": {
      "text/html": [
       "<script>requirejs.config({paths: { 'plotly': ['https://cdn.plot.ly/plotly-latest.min']},});if(!window.Plotly) {{require(['plotly'],function(plotly) {window.Plotly=plotly;});}}</script>"
      ],
      "text/plain": [
       "<IPython.core.display.HTML object>"
      ]
     },
     "metadata": {},
     "output_type": "display_data"
    }
   ],
   "source": [
    "from IPython.display import Image\n",
    "from IPython.core.display import HTML\n",
    "from termcolor import colored, cprint\n",
    "from IPython.display import display, HTML\n",
    "from __future__ import print_function\n",
    "from ipywidgets import interact, interactive, fixed, interact_manual\n",
    "import ipywidgets as widgets\n",
    "import numpy as np            # Data manipulation\n",
    "import pandas as pd           # Dataframe manipulatio \n",
    "import matplotlib.pyplot as plt # For graphics\n",
    "import matplotlib.path as mpath\n",
    "import plotly\n",
    "\n",
    "plotly.tools.set_credentials_file(username='RayyanAnsari', api_key='bmmXMgYcnUFHZrAcEW4d')\n",
    "\n",
    "import plotly.plotly as py\n",
    "import plotly.graph_objs as go\n",
    "\n",
    "import plotly.graph_objs as go\n",
    "from plotly.offline import init_notebook_mode, iplot\n",
    "init_notebook_mode(connected=True)\n",
    "from plotly.widgets import GraphWidget\n",
    "\n",
    "\n",
    "\n",
    "hold=0\n",
    "\n",
    "def h(Scale,Define_Metric):\n",
    "    \n",
    "\n",
    "    if Define_Metric=='Click_Through_Rate':\n",
    "        \n",
    "\n",
    "        xx=Scale\n",
    "        y=[xx*2 , 100/xx]\n",
    "        \n",
    "        def update_plot(xx):\n",
    "            data = [go.Bar(\n",
    "                x=['Number_of_InPerson_Consults','Average_Response_Time'],\n",
    "                y=y,\n",
    "                \n",
    "\n",
    "                \n",
    "                text=y,\n",
    "                 textposition = 'auto',\n",
    "                marker=dict(\n",
    "                color='rgb(158,202,225)',\n",
    "                line=dict(\n",
    "                    color='rgb(8,48,107)',\n",
    "                    width=2),\n",
    "            ),\n",
    "            opacity=0.6\n",
    "        )\n",
    "                \n",
    "            ]\n",
    "            iplot(data, filename='bar-direct-labels', show_link=False)\n",
    "        \n",
    "        update_plot(xx)\n",
    "\n",
    "\n",
    "        \n",
    "\n",
    "           \n",
    "        \n",
    "    if Define_Metric=='Average_Response_Time':\n",
    "        \n",
    "        \n",
    "\n",
    "        xx=Scale  \n",
    "        y=[100/xx , 100/xx]\n",
    "        \n",
    "        def update_plot(xx):\n",
    "            data = [go.Bar(\n",
    "                x=['Number_of_InPerson_Consults','Click_Through_Rate'],\n",
    "                y=y,\n",
    "                \n",
    "            \n",
    "                 text=y,\n",
    "                 textposition = 'auto',\n",
    "                marker=dict(\n",
    "                color='rgb(158,202,225)',\n",
    "                line=dict(\n",
    "                    color='rgb(8,48,107)',\n",
    "                    width=2),\n",
    "            ),\n",
    "            opacity=0.6\n",
    "        )\n",
    "                \n",
    "            ]\n",
    "            \n",
    "            \n",
    "            iplot(data,filename='bar-direct-labels', show_link=False)\n",
    "        \n",
    "        update_plot(xx)\n",
    "       \n",
    "        \n",
    "    if Define_Metric=='Number_of_InPerson_Consults':\n",
    "        xx=Scale\n",
    "        y=[xx*2 , 100/xx]\n",
    "        \n",
    "\n",
    "        \n",
    "        def update_plot(xx):\n",
    "            data = [go.Bar(\n",
    "                \n",
    "                x=['Click_Through_Rate','Average_Response_Time'],\n",
    "                y=y,\n",
    "                 \n",
    "                 \n",
    "                 text=y,\n",
    "                 textposition = 'auto',\n",
    "                marker=dict(\n",
    "                color='rgb(158,202,225)',\n",
    "                line=dict(\n",
    "                    color='rgb(8,48,107)',\n",
    "                    width=2),\n",
    "            ),\n",
    "            opacity=0.6\n",
    "        )\n",
    "                \n",
    "            ]\n",
    "            iplot(data,filename='bar-direct-labels', show_link=False)\n",
    "        \n",
    "        update_plot(xx)\n",
    "        \n",
    "    return(0)\n",
    "\n",
    "   \n",
    "    \n",
    "        \n",
    "    \n",
    "\n"
   ]
  },
  {
   "cell_type": "code",
   "execution_count": 168,
   "metadata": {
    "collapsed": false,
    "deletable": true,
    "editable": true
   },
   "outputs": [],
   "source": [
    "# from IPython.display import Image\n",
    "# Image(url= \"https://github.com/RayGen92/nbinteract-tutorial/blob/master/poormeter.PNG?raw=true\",width=200, height=150)"
   ]
  },
  {
   "cell_type": "code",
   "execution_count": 169,
   "metadata": {
    "collapsed": false,
    "deletable": true,
    "editable": true,
    "extensions": {
     "jupyter_dashboards": {
      "version": 1,
      "views": {
       "grid_default": {
        "hidden": true
       },
       "report_default": {}
      }
     }
    }
   },
   "outputs": [],
   "source": [
    "# from IPython.display import Image\n",
    "# Image(filename='C:\\\\Users\\\\Rayyan\\\\Desktop\\\\wec.png')\n",
    "#print(\"DYNAMIC BUSINESS METRICS\")\n",
    "#Image(url= \"https://github.com/RayGen92/nbinteract-tutorial/blob/master/wecudospic.png?raw=true\", width=150, height=150)\n"
   ]
  },
  {
   "cell_type": "code",
   "execution_count": 170,
   "metadata": {
    "collapsed": true,
    "deletable": true,
    "editable": true
   },
   "outputs": [],
   "source": [
    "#<img src=\"https://github.com/RayGen92/nbinteract-tutorial/blob/master/wecudospic.png?raw=true\" width=\"150\" height=\"150\" align=\"right\"/>"
   ]
  },
  {
   "cell_type": "markdown",
   "metadata": {
    "deletable": true,
    "editable": true
   },
   "source": [
    "<figure><img src=\"https://github.com/RayGen92/nbinteract-tutorial/blob/master/wecudospic.png?raw=true\" width=\"150\" height=\"150\" align=\"right\"/><figcaption><font size=\"6\" color=\"blue\">CUSTOMER SATISFACTION SCORE</font></figcaption></figure> "
   ]
  },
  {
   "cell_type": "code",
   "execution_count": 171,
   "metadata": {
    "collapsed": false,
    "deletable": true,
    "editable": true
   },
   "outputs": [
    {
     "data": {
      "application/vnd.jupyter.widget-view+json": {
       "model_id": "456ebceda8e7484083441087e8ddf3f5",
       "version_major": 2,
       "version_minor": 0
      },
      "text/plain": [
       "interactive(children=(IntSlider(value=5, description='Scale', max=10, min=1, step=2), Dropdown(description='De…"
      ]
     },
     "metadata": {},
     "output_type": "display_data"
    },
    {
     "data": {
      "text/plain": [
       "<function __main__.h(Scale, Define_Metric)>"
      ]
     },
     "execution_count": 171,
     "metadata": {},
     "output_type": "execute_result"
    }
   ],
   "source": [
    "interact(h,Scale=(1,10,2),Define_Metric=['Click_Through_Rate','Average_Response_Time','Number_of_InPerson_Consults'])"
   ]
  },
  {
   "cell_type": "code",
   "execution_count": null,
   "metadata": {
    "collapsed": true,
    "deletable": true,
    "editable": true
   },
   "outputs": [],
   "source": []
  },
  {
   "cell_type": "code",
   "execution_count": 172,
   "metadata": {
    "collapsed": false,
    "deletable": true,
    "editable": true,
    "extensions": {
     "jupyter_dashboards": {
      "version": 1,
      "views": {
       "grid_default": {
        "col": 0,
        "height": 18,
        "hidden": false,
        "row": 0,
        "width": 4
       },
       "report_default": {}
      }
     }
    }
   },
   "outputs": [],
   "source": [
    "# interact(h,ctr=(0,10,2),resptime=(0,10,2),inpercons=(0,10,2),Ques_Number=['1','2','3','4','5'])\n",
    "# interact(h,ctr=(0,10,2),resptime=(0,10,2),inpercons=(0,10,2),Ques_Number=['1','2','3','4','5'])"
   ]
  },
  {
   "cell_type": "code",
   "execution_count": 173,
   "metadata": {
    "collapsed": false,
    "deletable": true,
    "editable": true,
    "extensions": {
     "jupyter_dashboards": {
      "version": 1,
      "views": {
       "grid_default": {
        "col": 8,
        "height": 18,
        "hidden": false,
        "row": 0,
        "width": 4
       },
       "report_default": {}
      }
     }
    }
   },
   "outputs": [],
   "source": [
    "#interact(h,ctr=(0,10,2),resptime=(0,10,2),inpercons=(0,10,2),Ques_Number=['1','2','3','4','5'])"
   ]
  },
  {
   "cell_type": "code",
   "execution_count": 174,
   "metadata": {
    "collapsed": false,
    "deletable": true,
    "editable": true,
    "extensions": {
     "jupyter_dashboards": {
      "version": 1,
      "views": {
       "grid_default": {
        "col": 4,
        "height": 4,
        "hidden": false,
        "row": 0,
        "width": 4
       },
       "report_default": {}
      }
     }
    }
   },
   "outputs": [
    {
     "data": {
      "text/html": [
       "<script>\n",
       "code_show=true; \n",
       "function code_toggle() {\n",
       " if (code_show){\n",
       " $('div.input').hide();\n",
       " } else {\n",
       " $('div.input').show();\n",
       " }\n",
       " code_show = !code_show\n",
       "} \n",
       "$( document ).ready(code_toggle);\n",
       "</script>\n",
       "The raw code for this IPython notebook is by default hidden for easier reading.\n",
       "To toggle on/off the raw code, click <a href=\"javascript:code_toggle()\">here</a>."
      ],
      "text/plain": [
       "<IPython.core.display.HTML object>"
      ]
     },
     "execution_count": 174,
     "metadata": {},
     "output_type": "execute_result"
    }
   ],
   "source": [
    "from IPython.display import HTML\n",
    "HTML('''<script>\n",
    "code_show=true; \n",
    "function code_toggle() {\n",
    " if (code_show){\n",
    " $('div.input').hide();\n",
    " } else {\n",
    " $('div.input').show();\n",
    " }\n",
    " code_show = !code_show\n",
    "} \n",
    "$( document ).ready(code_toggle);\n",
    "</script>\n",
    "The raw code for this IPython notebook is by default hidden for easier reading.\n",
    "To toggle on/off the raw code, click <a href=\"javascript:code_toggle()\">here</a>.''')"
   ]
  },
  {
   "cell_type": "code",
   "execution_count": 175,
   "metadata": {
    "collapsed": false,
    "deletable": true,
    "editable": true
   },
   "outputs": [
    {
     "data": {
      "text/html": [
       "\n",
       "<style>\n",
       "#notebook-container {\n",
       "    padding: 15px;\n",
       "    background-color: #e8e8e8;\n",
       "    min-height: 0;\n",
       "    -webkit-box-shadow: 0px 0px 12px 1px rgba(87, 87, 87, 0.3);\n",
       "    box-shadow: 0px 0px 12px 1px rgba(87, 87, 87, 0.3);\n",
       "}\n",
       ".notebook_app {\n",
       "    background-color: darkblue;\n",
       "}\n",
       "#header{\n",
       "background-color: lightgray;\n",
       "}\n",
       "#notebook_name.filename{\n",
       "\n",
       "color:DarkBlue;\n",
       "font-size:200%;\n",
       "}\n",
       "body #header{\n",
       "background-color:lightgray;\n",
       "}\n",
       "</style>\n"
      ],
      "text/plain": [
       "<IPython.core.display.HTML object>"
      ]
     },
     "execution_count": 175,
     "metadata": {},
     "output_type": "execute_result"
    }
   ],
   "source": [
    "##E3F6FF\n",
    "from IPython.core.display import HTML\n",
    "HTML(\"\"\"\n",
    "<style>\n",
    "#notebook-container {\n",
    "    padding: 15px;\n",
    "    background-color: #e8e8e8;\n",
    "    min-height: 0;\n",
    "    -webkit-box-shadow: 0px 0px 12px 1px rgba(87, 87, 87, 0.3);\n",
    "    box-shadow: 0px 0px 12px 1px rgba(87, 87, 87, 0.3);\n",
    "}\n",
    ".notebook_app {\n",
    "    background-color: darkblue;\n",
    "}\n",
    "#header{\n",
    "background-color: lightgray;\n",
    "}\n",
    "#notebook_name.filename{\n",
    "\n",
    "color:DarkBlue;\n",
    "font-size:200%;\n",
    "}\n",
    "body #header{\n",
    "background-color:lightgray;\n",
    "}\n",
    "</style>\n",
    "\"\"\")"
   ]
  },
  {
   "cell_type": "code",
   "execution_count": null,
   "metadata": {
    "collapsed": true
   },
   "outputs": [],
   "source": []
  }
 ],
 "metadata": {
  "extensions": {
   "jupyter_dashboards": {
    "activeView": "grid_default",
    "version": 1,
    "views": {
     "grid_default": {
      "cellMargin": 10,
      "defaultCellHeight": 20,
      "maxColumns": 12,
      "name": "grid",
      "type": "grid"
     },
     "report_default": {
      "name": "report",
      "type": "report"
     }
    }
   }
  },
  "kernelspec": {
   "display_name": "Python 3",
   "language": "python",
   "name": "python3"
  },
  "language_info": {
   "codemirror_mode": {
    "name": "ipython",
    "version": 3
   },
   "file_extension": ".py",
   "mimetype": "text/x-python",
   "name": "python",
   "nbconvert_exporter": "python",
   "pygments_lexer": "ipython3",
   "version": "3.5.2"
  }
 },
 "nbformat": 4,
 "nbformat_minor": 2
}
